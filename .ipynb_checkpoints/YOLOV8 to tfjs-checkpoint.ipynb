{
 "cells": [
  {
   "cell_type": "markdown",
   "id": "358aece6",
   "metadata": {},
   "source": [
    "# Dependencies "
   ]
  },
  {
   "cell_type": "code",
   "execution_count": null,
   "id": "5770c45a",
   "metadata": {},
   "outputs": [
    {
     "name": "stdout",
     "output_type": "stream",
     "text": [
      "Collecting onnx\n",
      "  Downloading onnx-1.14.0-cp38-cp38-macosx_10_12_x86_64.whl (13.8 MB)\n",
      "\u001b[2K     \u001b[90m━━━━━━━━━━━━━━━━━━━━━━━━━━━━━━━━━━━━━━━━\u001b[0m \u001b[32m13.8/13.8 MB\u001b[0m \u001b[31m30.8 MB/s\u001b[0m eta \u001b[36m0:00:00\u001b[0m00:01\u001b[0m00:01\u001b[0m\n",
      "\u001b[?25hRequirement already satisfied: numpy in /Users/alejandrosalinas/miniconda3/envs/py38/lib/python3.8/site-packages (from onnx) (1.23.5)\n",
      "Requirement already satisfied: typing-extensions>=3.6.2.1 in /Users/alejandrosalinas/miniconda3/envs/py38/lib/python3.8/site-packages (from onnx) (4.5.0)\n",
      "Requirement already satisfied: protobuf>=3.20.2 in /Users/alejandrosalinas/miniconda3/envs/py38/lib/python3.8/site-packages (from onnx) (4.22.3)\n",
      "Installing collected packages: onnx\n",
      "Successfully installed onnx-1.14.0\n",
      "Collecting onnxruntime\n",
      "  Downloading onnxruntime-1.15.1-cp38-cp38-macosx_10_15_x86_64.whl (6.8 MB)\n",
      "\u001b[2K     \u001b[90m━━━━━━━━━━━━━━━━━━━━━━━━━━━━━━━━━━━━━━━━\u001b[0m \u001b[32m6.8/6.8 MB\u001b[0m \u001b[31m26.7 MB/s\u001b[0m eta \u001b[36m0:00:00\u001b[0m00:01\u001b[0m00:01\u001b[0m\n",
      "\u001b[?25hRequirement already satisfied: coloredlogs in /Users/alejandrosalinas/miniconda3/envs/py38/lib/python3.8/site-packages (from onnxruntime) (15.0.1)\n",
      "Requirement already satisfied: sympy in /Users/alejandrosalinas/miniconda3/envs/py38/lib/python3.8/site-packages (from onnxruntime) (1.11.1)\n",
      "Requirement already satisfied: numpy>=1.21.6 in /Users/alejandrosalinas/miniconda3/envs/py38/lib/python3.8/site-packages (from onnxruntime) (1.23.5)\n",
      "Requirement already satisfied: flatbuffers in /Users/alejandrosalinas/miniconda3/envs/py38/lib/python3.8/site-packages (from onnxruntime) (23.3.3)\n",
      "Requirement already satisfied: protobuf in /Users/alejandrosalinas/miniconda3/envs/py38/lib/python3.8/site-packages (from onnxruntime) (4.22.3)\n",
      "Requirement already satisfied: packaging in /Users/alejandrosalinas/miniconda3/envs/py38/lib/python3.8/site-packages (from onnxruntime) (23.1)\n",
      "Requirement already satisfied: humanfriendly>=9.1 in /Users/alejandrosalinas/miniconda3/envs/py38/lib/python3.8/site-packages (from coloredlogs->onnxruntime) (10.0)\n",
      "Requirement already satisfied: mpmath>=0.19 in /Users/alejandrosalinas/miniconda3/envs/py38/lib/python3.8/site-packages (from sympy->onnxruntime) (1.3.0)\n",
      "Installing collected packages: onnxruntime\n",
      "Successfully installed onnxruntime-1.15.1\n",
      "Collecting onnx-tf\n",
      "  Downloading onnx_tf-1.10.0-py3-none-any.whl (226 kB)\n",
      "\u001b[2K     \u001b[90m━━━━━━━━━━━━━━━━━━━━━━━━━━━━━━━━━━━━━━━\u001b[0m \u001b[32m226.1/226.1 kB\u001b[0m \u001b[31m8.5 MB/s\u001b[0m eta \u001b[36m0:00:00\u001b[0m\n",
      "\u001b[?25hRequirement already satisfied: PyYAML in /Users/alejandrosalinas/miniconda3/envs/py38/lib/python3.8/site-packages (from onnx-tf) (5.4.1)\n",
      "Requirement already satisfied: onnx>=1.10.2 in /Users/alejandrosalinas/miniconda3/envs/py38/lib/python3.8/site-packages (from onnx-tf) (1.14.0)\n",
      "Collecting tensorflow-addons\n",
      "  Downloading tensorflow_addons-0.21.0-cp38-cp38-macosx_10_14_x86_64.whl (13.4 MB)\n",
      "\u001b[2K     \u001b[90m━━━━━━━━━━━━━━━━━━━━━━━━━━━━━━━━━━━━━━━━\u001b[0m \u001b[32m13.4/13.4 MB\u001b[0m \u001b[31m23.4 MB/s\u001b[0m eta \u001b[36m0:00:00\u001b[0m00:01\u001b[0m00:01\u001b[0m\n",
      "\u001b[?25hRequirement already satisfied: numpy in /Users/alejandrosalinas/miniconda3/envs/py38/lib/python3.8/site-packages (from onnx>=1.10.2->onnx-tf) (1.23.5)\n",
      "Requirement already satisfied: typing-extensions>=3.6.2.1 in /Users/alejandrosalinas/miniconda3/envs/py38/lib/python3.8/site-packages (from onnx>=1.10.2->onnx-tf) (4.5.0)\n",
      "Requirement already satisfied: protobuf>=3.20.2 in /Users/alejandrosalinas/miniconda3/envs/py38/lib/python3.8/site-packages (from onnx>=1.10.2->onnx-tf) (4.22.3)\n",
      "Requirement already satisfied: packaging in /Users/alejandrosalinas/miniconda3/envs/py38/lib/python3.8/site-packages (from tensorflow-addons->onnx-tf) (23.1)\n",
      "Collecting typeguard<3.0.0,>=2.7\n",
      "  Downloading typeguard-2.13.3-py3-none-any.whl (17 kB)\n",
      "Installing collected packages: typeguard, tensorflow-addons, onnx-tf\n",
      "Successfully installed onnx-tf-1.10.0 tensorflow-addons-0.21.0 typeguard-2.13.3\n",
      "Requirement already satisfied: tensorflow-addons in /Users/alejandrosalinas/miniconda3/envs/py38/lib/python3.8/site-packages (0.21.0)\n",
      "Requirement already satisfied: packaging in /Users/alejandrosalinas/miniconda3/envs/py38/lib/python3.8/site-packages (from tensorflow-addons) (23.1)\n",
      "Requirement already satisfied: typeguard<3.0.0,>=2.7 in /Users/alejandrosalinas/miniconda3/envs/py38/lib/python3.8/site-packages (from tensorflow-addons) (2.13.3)\n",
      "Collecting tensorflowjs\n",
      "  Downloading tensorflowjs-4.8.0-py3-none-any.whl (85 kB)\n",
      "\u001b[2K     \u001b[90m━━━━━━━━━━━━━━━━━━━━━━━━━━━━━━━━━━━━━━━━\u001b[0m \u001b[32m85.1/85.1 kB\u001b[0m \u001b[31m4.8 MB/s\u001b[0m eta \u001b[36m0:00:00\u001b[0m\n",
      "\u001b[?25hCollecting packaging~=20.9\n",
      "  Downloading packaging-20.9-py2.py3-none-any.whl (40 kB)\n",
      "\u001b[2K     \u001b[90m━━━━━━━━━━━━━━━━━━━━━━━━━━━━━━━━━━━━━━━━\u001b[0m \u001b[32m40.9/40.9 kB\u001b[0m \u001b[31m3.7 MB/s\u001b[0m eta \u001b[36m0:00:00\u001b[0m\n",
      "\u001b[?25hRequirement already satisfied: jax>=0.3.16 in /Users/alejandrosalinas/miniconda3/envs/py38/lib/python3.8/site-packages (from tensorflowjs) (0.4.8)\n",
      "Collecting flax<0.6.3,>=0.6.2\n",
      "  Downloading flax-0.6.2-py3-none-any.whl (189 kB)\n",
      "\u001b[2K     \u001b[90m━━━━━━━━━━━━━━━━━━━━━━━━━━━━━━━━━━━━━━\u001b[0m \u001b[32m189.9/189.9 kB\u001b[0m \u001b[31m15.1 MB/s\u001b[0m eta \u001b[36m0:00:00\u001b[0m\n",
      "\u001b[?25hRequirement already satisfied: tensorflow<3,>=2.12.0 in /Users/alejandrosalinas/miniconda3/envs/py38/lib/python3.8/site-packages (from tensorflowjs) (2.12.0)\n",
      "Collecting tensorflow-hub>=0.13.0\n",
      "  Downloading tensorflow_hub-0.13.0-py2.py3-none-any.whl (100 kB)\n",
      "\u001b[2K     \u001b[90m━━━━━━━━━━━━━━━━━━━━━━━━━━━━━━━━━━━━━━\u001b[0m \u001b[32m100.6/100.6 kB\u001b[0m \u001b[31m13.3 MB/s\u001b[0m eta \u001b[36m0:00:00\u001b[0m\n",
      "\u001b[?25hCollecting tensorflow-decision-forests>=1.3.0\n",
      "  Downloading tensorflow_decision_forests-1.4.0-cp38-cp38-macosx_10_15_x86_64.whl (12.1 MB)\n",
      "\u001b[2K     \u001b[90m━━━━━━━━━━━━━━━━━━━━━━━━━━━━━━━━━━━━━━━━\u001b[0m \u001b[32m12.1/12.1 MB\u001b[0m \u001b[31m9.7 MB/s\u001b[0m eta \u001b[36m0:00:00\u001b[0m:00:01\u001b[0m00:01\u001b[0m\n",
      "\u001b[?25hRequirement already satisfied: importlib_resources>=5.9.0 in /Users/alejandrosalinas/miniconda3/envs/py38/lib/python3.8/site-packages (from tensorflowjs) (5.12.0)\n",
      "Requirement already satisfied: six<2,>=1.12.0 in /Users/alejandrosalinas/miniconda3/envs/py38/lib/python3.8/site-packages (from tensorflowjs) (1.16.0)\n",
      "Requirement already satisfied: numpy>=1.12 in /Users/alejandrosalinas/miniconda3/envs/py38/lib/python3.8/site-packages (from flax<0.6.3,>=0.6.2->tensorflowjs) (1.23.5)\n",
      "Collecting msgpack\n",
      "  Downloading msgpack-1.0.5-cp38-cp38-macosx_10_9_x86_64.whl (73 kB)\n",
      "\u001b[2K     \u001b[90m━━━━━━━━━━━━━━━━━━━━━━━━━━━━━━━━━━━━━━━━\u001b[0m \u001b[32m73.2/73.2 kB\u001b[0m \u001b[31m8.0 MB/s\u001b[0m eta \u001b[36m0:00:00\u001b[0m\n",
      "\u001b[?25hRequirement already satisfied: matplotlib in /Users/alejandrosalinas/miniconda3/envs/py38/lib/python3.8/site-packages (from flax<0.6.3,>=0.6.2->tensorflowjs) (3.7.1)\n",
      "Collecting rich>=11.1\n",
      "  Downloading rich-13.4.2-py3-none-any.whl (239 kB)\n",
      "\u001b[2K     \u001b[90m━━━━━━━━━━━━━━━━━━━━━━━━━━━━━━━━━━━━━━\u001b[0m \u001b[32m239.4/239.4 kB\u001b[0m \u001b[31m26.3 MB/s\u001b[0m eta \u001b[36m0:00:00\u001b[0m\n",
      "\u001b[?25hRequirement already satisfied: PyYAML>=5.4.1 in /Users/alejandrosalinas/miniconda3/envs/py38/lib/python3.8/site-packages (from flax<0.6.3,>=0.6.2->tensorflowjs) (5.4.1)\n",
      "Collecting tensorstore\n",
      "  Downloading tensorstore-0.1.40-cp38-cp38-macosx_10_14_x86_64.whl (13.8 MB)\n",
      "\u001b[2K     \u001b[90m━━━━━━━━━━━━━━━━━━━━━━━━━━━━━━━━━━━━━━━━\u001b[0m \u001b[32m13.8/13.8 MB\u001b[0m \u001b[31m33.3 MB/s\u001b[0m eta \u001b[36m0:00:00\u001b[0m00:01\u001b[0m00:01\u001b[0m\n",
      "\u001b[?25hRequirement already satisfied: typing-extensions>=4.1.1 in /Users/alejandrosalinas/miniconda3/envs/py38/lib/python3.8/site-packages (from flax<0.6.3,>=0.6.2->tensorflowjs) (4.5.0)\n",
      "Collecting optax\n",
      "  Downloading optax-0.1.5-py3-none-any.whl (164 kB)\n",
      "\u001b[2K     \u001b[90m━━━━━━━━━━━━━━━━━━━━━━━━━━━━━━━━━━━━━━\u001b[0m \u001b[32m164.6/164.6 kB\u001b[0m \u001b[31m19.3 MB/s\u001b[0m eta \u001b[36m0:00:00\u001b[0m\n",
      "\u001b[?25hRequirement already satisfied: zipp>=3.1.0 in /Users/alejandrosalinas/miniconda3/envs/py38/lib/python3.8/site-packages (from importlib_resources>=5.9.0->tensorflowjs) (3.15.0)\n",
      "Requirement already satisfied: opt-einsum in /Users/alejandrosalinas/miniconda3/envs/py38/lib/python3.8/site-packages (from jax>=0.3.16->tensorflowjs) (3.3.0)\n",
      "Requirement already satisfied: ml-dtypes>=0.0.3 in /Users/alejandrosalinas/miniconda3/envs/py38/lib/python3.8/site-packages (from jax>=0.3.16->tensorflowjs) (0.1.0)\n",
      "Requirement already satisfied: scipy>=1.7 in /Users/alejandrosalinas/miniconda3/envs/py38/lib/python3.8/site-packages (from jax>=0.3.16->tensorflowjs) (1.10.1)\n"
     ]
    },
    {
     "name": "stdout",
     "output_type": "stream",
     "text": [
      "Requirement already satisfied: pyparsing>=2.0.2 in /Users/alejandrosalinas/miniconda3/envs/py38/lib/python3.8/site-packages (from packaging~=20.9->tensorflowjs) (3.0.9)\n",
      "Requirement already satisfied: astunparse>=1.6.0 in /Users/alejandrosalinas/miniconda3/envs/py38/lib/python3.8/site-packages (from tensorflow<3,>=2.12.0->tensorflowjs) (1.6.3)\n",
      "Requirement already satisfied: wrapt<1.15,>=1.11.0 in /Users/alejandrosalinas/miniconda3/envs/py38/lib/python3.8/site-packages (from tensorflow<3,>=2.12.0->tensorflowjs) (1.14.1)\n",
      "Requirement already satisfied: gast<=0.4.0,>=0.2.1 in /Users/alejandrosalinas/miniconda3/envs/py38/lib/python3.8/site-packages (from tensorflow<3,>=2.12.0->tensorflowjs) (0.4.0)\n",
      "Requirement already satisfied: grpcio<2.0,>=1.24.3 in /Users/alejandrosalinas/miniconda3/envs/py38/lib/python3.8/site-packages (from tensorflow<3,>=2.12.0->tensorflowjs) (1.54.0)\n",
      "Requirement already satisfied: tensorflow-io-gcs-filesystem>=0.23.1 in /Users/alejandrosalinas/miniconda3/envs/py38/lib/python3.8/site-packages (from tensorflow<3,>=2.12.0->tensorflowjs) (0.32.0)\n",
      "Requirement already satisfied: absl-py>=1.0.0 in /Users/alejandrosalinas/miniconda3/envs/py38/lib/python3.8/site-packages (from tensorflow<3,>=2.12.0->tensorflowjs) (1.4.0)\n",
      "Requirement already satisfied: protobuf!=4.21.0,!=4.21.1,!=4.21.2,!=4.21.3,!=4.21.4,!=4.21.5,<5.0.0dev,>=3.20.3 in /Users/alejandrosalinas/miniconda3/envs/py38/lib/python3.8/site-packages (from tensorflow<3,>=2.12.0->tensorflowjs) (4.22.3)\n",
      "Requirement already satisfied: tensorboard<2.13,>=2.12 in /Users/alejandrosalinas/miniconda3/envs/py38/lib/python3.8/site-packages (from tensorflow<3,>=2.12.0->tensorflowjs) (2.12.2)\n",
      "Requirement already satisfied: tensorflow-estimator<2.13,>=2.12.0 in /Users/alejandrosalinas/miniconda3/envs/py38/lib/python3.8/site-packages (from tensorflow<3,>=2.12.0->tensorflowjs) (2.12.0)\n",
      "Requirement already satisfied: flatbuffers>=2.0 in /Users/alejandrosalinas/miniconda3/envs/py38/lib/python3.8/site-packages (from tensorflow<3,>=2.12.0->tensorflowjs) (23.3.3)\n",
      "Requirement already satisfied: h5py>=2.9.0 in /Users/alejandrosalinas/miniconda3/envs/py38/lib/python3.8/site-packages (from tensorflow<3,>=2.12.0->tensorflowjs) (3.8.0)\n",
      "Requirement already satisfied: keras<2.13,>=2.12.0 in /Users/alejandrosalinas/miniconda3/envs/py38/lib/python3.8/site-packages (from tensorflow<3,>=2.12.0->tensorflowjs) (2.12.0)\n",
      "Requirement already satisfied: termcolor>=1.1.0 in /Users/alejandrosalinas/miniconda3/envs/py38/lib/python3.8/site-packages (from tensorflow<3,>=2.12.0->tensorflowjs) (2.3.0)\n",
      "Requirement already satisfied: google-pasta>=0.1.1 in /Users/alejandrosalinas/miniconda3/envs/py38/lib/python3.8/site-packages (from tensorflow<3,>=2.12.0->tensorflowjs) (0.2.0)\n",
      "Requirement already satisfied: libclang>=13.0.0 in /Users/alejandrosalinas/miniconda3/envs/py38/lib/python3.8/site-packages (from tensorflow<3,>=2.12.0->tensorflowjs) (16.0.0)\n",
      "Requirement already satisfied: setuptools in /Users/alejandrosalinas/miniconda3/envs/py38/lib/python3.8/site-packages (from tensorflow<3,>=2.12.0->tensorflowjs) (66.0.0)\n",
      "Collecting wurlitzer\n",
      "  Downloading wurlitzer-3.0.3-py3-none-any.whl (7.3 kB)\n",
      "Collecting tensorflow-decision-forests>=1.3.0\n",
      "  Downloading tensorflow_decision_forests-1.3.0-cp38-cp38-macosx_10_15_x86_64.whl (12.0 MB)\n",
      "\u001b[2K     \u001b[90m━━━━━━━━━━━━━━━━━━━━━━━━━━━━━━━━━━━━━━━━\u001b[0m \u001b[32m12.0/12.0 MB\u001b[0m \u001b[31m7.4 MB/s\u001b[0m eta \u001b[36m0:00:00\u001b[0m00:01\u001b[0m00:01\u001b[0m\n",
      "\u001b[?25hRequirement already satisfied: pandas in /Users/alejandrosalinas/miniconda3/envs/py38/lib/python3.8/site-packages (from tensorflow-decision-forests>=1.3.0->tensorflowjs) (2.0.1)\n",
      "Requirement already satisfied: wheel in /Users/alejandrosalinas/miniconda3/envs/py38/lib/python3.8/site-packages (from tensorflow-decision-forests>=1.3.0->tensorflowjs) (0.38.4)\n",
      "Requirement already satisfied: pygments<3.0.0,>=2.13.0 in /Users/alejandrosalinas/miniconda3/envs/py38/lib/python3.8/site-packages (from rich>=11.1->flax<0.6.3,>=0.6.2->tensorflowjs) (2.15.1)\n",
      "Collecting markdown-it-py>=2.2.0\n",
      "  Downloading markdown_it_py-3.0.0-py3-none-any.whl (87 kB)\n",
      "\u001b[2K     \u001b[90m━━━━━━━━━━━━━━━━━━━━━━━━━━━━━━━━━━━━━━━━\u001b[0m \u001b[32m87.5/87.5 kB\u001b[0m \u001b[31m10.8 MB/s\u001b[0m eta \u001b[36m0:00:00\u001b[0m\n",
      "\u001b[?25hRequirement already satisfied: werkzeug>=1.0.1 in /Users/alejandrosalinas/miniconda3/envs/py38/lib/python3.8/site-packages (from tensorboard<2.13,>=2.12->tensorflow<3,>=2.12.0->tensorflowjs) (2.2.3)\n",
      "Requirement already satisfied: tensorboard-plugin-wit>=1.6.0 in /Users/alejandrosalinas/miniconda3/envs/py38/lib/python3.8/site-packages (from tensorboard<2.13,>=2.12->tensorflow<3,>=2.12.0->tensorflowjs) (1.8.1)\n",
      "Requirement already satisfied: tensorboard-data-server<0.8.0,>=0.7.0 in /Users/alejandrosalinas/miniconda3/envs/py38/lib/python3.8/site-packages (from tensorboard<2.13,>=2.12->tensorflow<3,>=2.12.0->tensorflowjs) (0.7.0)\n",
      "Requirement already satisfied: requests<3,>=2.21.0 in /Users/alejandrosalinas/miniconda3/envs/py38/lib/python3.8/site-packages (from tensorboard<2.13,>=2.12->tensorflow<3,>=2.12.0->tensorflowjs) (2.30.0)\n",
      "Requirement already satisfied: google-auth<3,>=1.6.3 in /Users/alejandrosalinas/miniconda3/envs/py38/lib/python3.8/site-packages (from tensorboard<2.13,>=2.12->tensorflow<3,>=2.12.0->tensorflowjs) (2.17.3)\n",
      "Requirement already satisfied: google-auth-oauthlib<1.1,>=0.5 in /Users/alejandrosalinas/miniconda3/envs/py38/lib/python3.8/site-packages (from tensorboard<2.13,>=2.12->tensorflow<3,>=2.12.0->tensorflowjs) (1.0.0)\n",
      "Requirement already satisfied: markdown>=2.6.8 in /Users/alejandrosalinas/miniconda3/envs/py38/lib/python3.8/site-packages (from tensorboard<2.13,>=2.12->tensorflow<3,>=2.12.0->tensorflowjs) (3.4.3)\n",
      "Requirement already satisfied: cycler>=0.10 in /Users/alejandrosalinas/miniconda3/envs/py38/lib/python3.8/site-packages (from matplotlib->flax<0.6.3,>=0.6.2->tensorflowjs) (0.11.0)\n",
      "Requirement already satisfied: fonttools>=4.22.0 in /Users/alejandrosalinas/miniconda3/envs/py38/lib/python3.8/site-packages (from matplotlib->flax<0.6.3,>=0.6.2->tensorflowjs) (4.39.3)\n",
      "Requirement already satisfied: contourpy>=1.0.1 in /Users/alejandrosalinas/miniconda3/envs/py38/lib/python3.8/site-packages (from matplotlib->flax<0.6.3,>=0.6.2->tensorflowjs) (1.0.7)\n",
      "Requirement already satisfied: pillow>=6.2.0 in /Users/alejandrosalinas/miniconda3/envs/py38/lib/python3.8/site-packages (from matplotlib->flax<0.6.3,>=0.6.2->tensorflowjs) (9.5.0)\n",
      "Requirement already satisfied: kiwisolver>=1.0.1 in /Users/alejandrosalinas/miniconda3/envs/py38/lib/python3.8/site-packages (from matplotlib->flax<0.6.3,>=0.6.2->tensorflowjs) (1.4.4)\n",
      "Requirement already satisfied: python-dateutil>=2.7 in /Users/alejandrosalinas/miniconda3/envs/py38/lib/python3.8/site-packages (from matplotlib->flax<0.6.3,>=0.6.2->tensorflowjs) (2.8.2)\n",
      "Collecting jaxlib>=0.1.37\n",
      "  Downloading jaxlib-0.4.13-cp38-cp38-macosx_10_14_x86_64.whl (75.0 MB)\n",
      "\u001b[2K     \u001b[90m━━━━━━━━━━━━━━━━━━━━━━━━━━━━━━━━━━━━━━━━\u001b[0m \u001b[32m75.0/75.0 MB\u001b[0m \u001b[31m17.3 MB/s\u001b[0m eta \u001b[36m0:00:00\u001b[0m00:01\u001b[0m00:01\u001b[0m\n",
      "\u001b[?25hCollecting chex>=0.1.5\n",
      "  Downloading chex-0.1.7-py3-none-any.whl (89 kB)\n",
      "\u001b[2K     \u001b[90m━━━━━━━━━━━━━━━━━━━━━━━━━━━━━━━━━━━━━━━━\u001b[0m \u001b[32m89.6/89.6 kB\u001b[0m \u001b[31m8.5 MB/s\u001b[0m eta \u001b[36m0:00:00\u001b[0m\n",
      "\u001b[?25hRequirement already satisfied: pytz>=2020.1 in /Users/alejandrosalinas/miniconda3/envs/py38/lib/python3.8/site-packages (from pandas->tensorflow-decision-forests>=1.3.0->tensorflowjs) (2023.3)\n",
      "Requirement already satisfied: tzdata>=2022.1 in /Users/alejandrosalinas/miniconda3/envs/py38/lib/python3.8/site-packages (from pandas->tensorflow-decision-forests>=1.3.0->tensorflowjs) (2023.3)\n",
      "Collecting dm-tree>=0.1.5\n",
      "  Downloading dm_tree-0.1.8-cp38-cp38-macosx_10_9_x86_64.whl (115 kB)\n",
      "\u001b[2K     \u001b[90m━━━━━━━━━━━━━━━━━━━━━━━━━━━━━━━━━━━━━━\u001b[0m \u001b[32m115.4/115.4 kB\u001b[0m \u001b[31m10.3 MB/s\u001b[0m eta \u001b[36m0:00:00\u001b[0m\n",
      "\u001b[?25hCollecting toolz>=0.9.0\n",
      "  Downloading toolz-0.12.0-py3-none-any.whl (55 kB)\n",
      "\u001b[2K     \u001b[90m━━━━━━━━━━━━━━━━━━━━━━━━━━━━━━━━━━━━━━━━\u001b[0m \u001b[32m55.8/55.8 kB\u001b[0m \u001b[31m6.9 MB/s\u001b[0m eta \u001b[36m0:00:00\u001b[0m\n",
      "\u001b[?25hRequirement already satisfied: rsa<5,>=3.1.4 in /Users/alejandrosalinas/miniconda3/envs/py38/lib/python3.8/site-packages (from google-auth<3,>=1.6.3->tensorboard<2.13,>=2.12->tensorflow<3,>=2.12.0->tensorflowjs) (4.7.2)\n",
      "Requirement already satisfied: pyasn1-modules>=0.2.1 in /Users/alejandrosalinas/miniconda3/envs/py38/lib/python3.8/site-packages (from google-auth<3,>=1.6.3->tensorboard<2.13,>=2.12->tensorflow<3,>=2.12.0->tensorflowjs) (0.3.0)\n",
      "Requirement already satisfied: cachetools<6.0,>=2.0.0 in /Users/alejandrosalinas/miniconda3/envs/py38/lib/python3.8/site-packages (from google-auth<3,>=1.6.3->tensorboard<2.13,>=2.12->tensorflow<3,>=2.12.0->tensorflowjs) (5.3.0)\n",
      "Requirement already satisfied: requests-oauthlib>=0.7.0 in /Users/alejandrosalinas/miniconda3/envs/py38/lib/python3.8/site-packages (from google-auth-oauthlib<1.1,>=0.5->tensorboard<2.13,>=2.12->tensorflow<3,>=2.12.0->tensorflowjs) (1.3.1)\n"
     ]
    },
    {
     "name": "stdout",
     "output_type": "stream",
     "text": [
      "Requirement already satisfied: importlib-metadata>=4.4 in /Users/alejandrosalinas/miniconda3/envs/py38/lib/python3.8/site-packages (from markdown>=2.6.8->tensorboard<2.13,>=2.12->tensorflow<3,>=2.12.0->tensorflowjs) (6.6.0)\n",
      "Collecting mdurl~=0.1\n",
      "  Downloading mdurl-0.1.2-py3-none-any.whl (10.0 kB)\n",
      "Requirement already satisfied: charset-normalizer<4,>=2 in /Users/alejandrosalinas/miniconda3/envs/py38/lib/python3.8/site-packages (from requests<3,>=2.21.0->tensorboard<2.13,>=2.12->tensorflow<3,>=2.12.0->tensorflowjs) (3.1.0)\n",
      "Requirement already satisfied: idna<4,>=2.5 in /Users/alejandrosalinas/miniconda3/envs/py38/lib/python3.8/site-packages (from requests<3,>=2.21.0->tensorboard<2.13,>=2.12->tensorflow<3,>=2.12.0->tensorflowjs) (2.8)\n",
      "Requirement already satisfied: certifi>=2017.4.17 in /Users/alejandrosalinas/miniconda3/envs/py38/lib/python3.8/site-packages (from requests<3,>=2.21.0->tensorboard<2.13,>=2.12->tensorflow<3,>=2.12.0->tensorflowjs) (2022.12.7)\n",
      "Requirement already satisfied: urllib3<3,>=1.21.1 in /Users/alejandrosalinas/miniconda3/envs/py38/lib/python3.8/site-packages (from requests<3,>=2.21.0->tensorboard<2.13,>=2.12->tensorflow<3,>=2.12.0->tensorflowjs) (1.26.15)\n",
      "Requirement already satisfied: MarkupSafe>=2.1.1 in /Users/alejandrosalinas/miniconda3/envs/py38/lib/python3.8/site-packages (from werkzeug>=1.0.1->tensorboard<2.13,>=2.12->tensorflow<3,>=2.12.0->tensorflowjs) (2.1.2)\n",
      "Requirement already satisfied: pyasn1<0.6.0,>=0.4.6 in /Users/alejandrosalinas/miniconda3/envs/py38/lib/python3.8/site-packages (from pyasn1-modules>=0.2.1->google-auth<3,>=1.6.3->tensorboard<2.13,>=2.12->tensorflow<3,>=2.12.0->tensorflowjs) (0.5.0)\n",
      "Requirement already satisfied: oauthlib>=3.0.0 in /Users/alejandrosalinas/miniconda3/envs/py38/lib/python3.8/site-packages (from requests-oauthlib>=0.7.0->google-auth-oauthlib<1.1,>=0.5->tensorboard<2.13,>=2.12->tensorflow<3,>=2.12.0->tensorflowjs) (3.2.2)\n",
      "Installing collected packages: msgpack, dm-tree, wurlitzer, toolz, tensorstore, tensorflow-hub, packaging, mdurl, markdown-it-py, jaxlib, rich, chex, optax, flax, tensorflow-decision-forests, tensorflowjs\n",
      "  Attempting uninstall: packaging\n",
      "    Found existing installation: packaging 23.1\n",
      "    Uninstalling packaging-23.1:\n",
      "      Successfully uninstalled packaging-23.1\n",
      "Successfully installed chex-0.1.7 dm-tree-0.1.8 flax-0.6.2 jaxlib-0.4.13 markdown-it-py-3.0.0 mdurl-0.1.2 msgpack-1.0.5 optax-0.1.5 packaging-20.9 rich-13.4.2 tensorflow-decision-forests-1.3.0 tensorflow-hub-0.13.0 tensorflowjs-4.8.0 tensorstore-0.1.40 toolz-0.12.0 wurlitzer-3.0.3\n",
      "Collecting simple-onnx-processing-tools\n",
      "  Downloading simple_onnx_processing_tools-1.1.22-py3-none-any.whl (7.7 kB)\n",
      "Collecting scc4onnx>=1.0.5\n",
      "  Downloading scc4onnx-1.0.5-py3-none-any.whl (9.4 kB)\n",
      "Collecting sbi4onnx>=1.0.4\n",
      "  Downloading sbi4onnx-1.0.4-py3-none-any.whl (6.6 kB)\n",
      "Collecting snc4onnx>=1.0.11\n",
      "  Downloading snc4onnx-1.0.11-py3-none-any.whl (10 kB)\n",
      "Collecting soc4onnx>=1.0.2\n",
      "  Downloading soc4onnx-1.0.2-py3-none-any.whl (5.7 kB)\n",
      "Collecting svs4onnx>=1.0.0\n",
      "  Downloading svs4onnx-1.0.0-py3-none-any.whl (6.3 kB)\n",
      "Collecting ssc4onnx>=1.0.4\n",
      "  Downloading ssc4onnx-1.0.4-py3-none-any.whl (6.8 kB)\n",
      "Collecting ssi4onnx>=1.0.2\n",
      "  Downloading ssi4onnx-1.0.2-py3-none-any.whl (5.5 kB)\n",
      "Collecting sde4onnx>=1.0.0\n",
      "  Downloading sde4onnx-1.0.0-py3-none-any.whl (5.5 kB)\n",
      "Collecting sne4onnx>=1.0.11\n",
      "  Downloading sne4onnx-1.0.11-py3-none-any.whl (7.0 kB)\n",
      "Collecting snd4onnx>=1.1.6\n",
      "  Downloading snd4onnx-1.1.6-py3-none-any.whl (9.0 kB)\n",
      "Collecting sio4onnx>=1.0.2\n",
      "  Downloading sio4onnx-1.0.2-py3-none-any.whl (6.9 kB)\n",
      "Collecting sod4onnx>=1.0.0\n",
      "  Downloading sod4onnx-1.0.0-py3-none-any.whl (5.9 kB)\n",
      "Collecting sit4onnx>=1.0.7\n",
      "  Downloading sit4onnx-1.0.7-py3-none-any.whl (9.8 kB)\n",
      "Collecting sam4onnx>=1.0.14\n",
      "  Downloading sam4onnx-1.0.14-py3-none-any.whl (10 kB)\n",
      "Collecting soa4onnx>=1.0.3\n",
      "  Downloading soa4onnx-1.0.3-py3-none-any.whl (6.1 kB)\n",
      "Collecting sog4onnx>=1.0.16\n",
      "  Downloading sog4onnx-1.0.16-py3-none-any.whl (9.6 kB)\n",
      "Collecting sed4onnx>=1.0.5\n",
      "  Downloading sed4onnx-1.0.5-py3-none-any.whl (5.7 kB)\n",
      "Collecting sor4onnx>=1.0.5\n",
      "  Downloading sor4onnx-1.0.5-py3-none-any.whl (7.1 kB)\n",
      "Collecting json2onnx>=2.0.2\n",
      "  Downloading json2onnx-2.0.2-py3-none-any.whl (4.8 kB)\n",
      "Collecting sna4onnx>=1.0.6\n",
      "  Downloading sna4onnx-1.0.6-py3-none-any.whl (10 kB)\n",
      "Collecting sng4onnx>=1.0.1\n",
      "  Downloading sng4onnx-1.0.1-py3-none-any.whl (5.8 kB)\n",
      "Collecting onnx2tf>=1.13.11\n",
      "  Downloading onnx2tf-1.14.4-py3-none-any.whl (371 kB)\n",
      "\u001b[2K     \u001b[90m━━━━━━━━━━━━━━━━━━━━━━━━━━━━━━━━━━━━━━\u001b[0m \u001b[32m372.0/372.0 kB\u001b[0m \u001b[31m19.4 MB/s\u001b[0m eta \u001b[36m0:00:00\u001b[0m\n",
      "\u001b[?25hCollecting onnx2json>=2.0.4\n",
      "  Downloading onnx2json-2.0.4-py3-none-any.whl (5.0 kB)\n",
      "Collecting scs4onnx>=1.0.18\n",
      "  Downloading scs4onnx-1.0.18-py3-none-any.whl (10 kB)\n",
      "Installing collected packages: svs4onnx, ssi4onnx, ssc4onnx, sor4onnx, sog4onnx, sod4onnx, soc4onnx, soa4onnx, sng4onnx, sne4onnx, snd4onnx, snc4onnx, sit4onnx, sio4onnx, sed4onnx, sde4onnx, scs4onnx, scc4onnx, sbi4onnx, sam4onnx, onnx2tf, onnx2json, json2onnx, sna4onnx, simple-onnx-processing-tools\n",
      "Successfully installed json2onnx-2.0.2 onnx2json-2.0.4 onnx2tf-1.14.4 sam4onnx-1.0.14 sbi4onnx-1.0.4 scc4onnx-1.0.5 scs4onnx-1.0.18 sde4onnx-1.0.0 sed4onnx-1.0.5 simple-onnx-processing-tools-1.1.22 sio4onnx-1.0.2 sit4onnx-1.0.7 sna4onnx-1.0.6 snc4onnx-1.0.11 snd4onnx-1.1.6 sne4onnx-1.0.11 sng4onnx-1.0.1 soa4onnx-1.0.3 soc4onnx-1.0.2 sod4onnx-1.0.0 sog4onnx-1.0.16 sor4onnx-1.0.5 ssc4onnx-1.0.4 ssi4onnx-1.0.2 svs4onnx-1.0.0\n",
      "Collecting nvidia-pyindex\n",
      "  Downloading nvidia-pyindex-1.0.9.tar.gz (10 kB)\n",
      "  Preparing metadata (setup.py) ... \u001b[?25ldone\n",
      "\u001b[?25hBuilding wheels for collected packages: nvidia-pyindex\n",
      "  Building wheel for nvidia-pyindex (setup.py) ... \u001b[?25ldone\n",
      "\u001b[?25h  Created wheel for nvidia-pyindex: filename=nvidia_pyindex-1.0.9-py3-none-any.whl size=8418 sha256=c427678fe87c68d3c7cdf5ad374c08bc053d155a387a2c61e54a1787f418053b\n",
      "  Stored in directory: /Users/alejandrosalinas/Library/Caches/pip/wheels/e0/c2/fb/5cf4e1cfaf28007238362cb746fb38fc2dd76348331a748d54\n",
      "Successfully built nvidia-pyindex\n",
      "Installing collected packages: nvidia-pyindex\n",
      "Successfully installed nvidia-pyindex-1.0.9\n",
      "Looking in indexes: https://pypi.org/simple, https://pypi.ngc.nvidia.com\n",
      "Collecting onnx-graphsurgeon\n",
      "  Downloading https://developer.download.nvidia.com/compute/redist/onnx-graphsurgeon/onnx_graphsurgeon-0.3.27-py2.py3-none-any.whl (42 kB)\n",
      "\u001b[2K     \u001b[90m━━━━━━━━━━━━━━━━━━━━━━━━━━━━━━━━━━━━━━━━\u001b[0m \u001b[32m42.1/42.1 kB\u001b[0m \u001b[31m1.4 MB/s\u001b[0m eta \u001b[36m0:00:00\u001b[0m\n",
      "\u001b[?25hRequirement already satisfied: numpy in /Users/alejandrosalinas/miniconda3/envs/py38/lib/python3.8/site-packages (from onnx-graphsurgeon) (1.23.5)\n",
      "Requirement already satisfied: onnx in /Users/alejandrosalinas/miniconda3/envs/py38/lib/python3.8/site-packages (from onnx-graphsurgeon) (1.14.0)\n",
      "Requirement already satisfied: typing-extensions>=3.6.2.1 in /Users/alejandrosalinas/miniconda3/envs/py38/lib/python3.8/site-packages (from onnx->onnx-graphsurgeon) (4.5.0)\n",
      "Requirement already satisfied: protobuf>=3.20.2 in /Users/alejandrosalinas/miniconda3/envs/py38/lib/python3.8/site-packages (from onnx->onnx-graphsurgeon) (4.22.3)\n",
      "Installing collected packages: onnx-graphsurgeon\n",
      "Successfully installed onnx-graphsurgeon-0.3.27\n",
      "Looking in indexes: https://pypi.org/simple, https://pypi.ngc.nvidia.com\n",
      "Collecting tensorflow-probability\n",
      "  Downloading tensorflow_probability-0.20.1-py2.py3-none-any.whl (6.9 MB)\n",
      "\u001b[2K     \u001b[90m━━━━━━━━━━━━━━━━━━━━━━━━━━━━━━━━━━━━━━━━\u001b[0m \u001b[32m6.9/6.9 MB\u001b[0m \u001b[31m36.2 MB/s\u001b[0m eta \u001b[36m0:00:00\u001b[0m00:01\u001b[0m00:01\u001b[0m\n",
      "\u001b[?25hCollecting cloudpickle>=1.3\n",
      "  Downloading cloudpickle-2.2.1-py3-none-any.whl (25 kB)\n",
      "Requirement already satisfied: absl-py in /Users/alejandrosalinas/miniconda3/envs/py38/lib/python3.8/site-packages (from tensorflow-probability) (1.4.0)\n",
      "Requirement already satisfied: numpy>=1.13.3 in /Users/alejandrosalinas/miniconda3/envs/py38/lib/python3.8/site-packages (from tensorflow-probability) (1.23.5)\n",
      "Requirement already satisfied: decorator in /Users/alejandrosalinas/miniconda3/envs/py38/lib/python3.8/site-packages (from tensorflow-probability) (5.1.1)\n",
      "Requirement already satisfied: six>=1.10.0 in /Users/alejandrosalinas/miniconda3/envs/py38/lib/python3.8/site-packages (from tensorflow-probability) (1.16.0)\n",
      "Requirement already satisfied: dm-tree in /Users/alejandrosalinas/miniconda3/envs/py38/lib/python3.8/site-packages (from tensorflow-probability) (0.1.8)\n",
      "Requirement already satisfied: gast>=0.3.2 in /Users/alejandrosalinas/miniconda3/envs/py38/lib/python3.8/site-packages (from tensorflow-probability) (0.4.0)\n"
     ]
    },
    {
     "name": "stdout",
     "output_type": "stream",
     "text": [
      "Installing collected packages: cloudpickle, tensorflow-probability\n",
      "Successfully installed cloudpickle-2.2.1 tensorflow-probability-0.20.1\n",
      "Looking in indexes: https://pypi.org/simple, https://pypi.ngc.nvidia.com\n",
      "Collecting pyarrow\n",
      "  Downloading pyarrow-12.0.1-cp38-cp38-macosx_10_14_x86_64.whl (24.7 MB)\n",
      "\u001b[2K     \u001b[90m━━━━━━━━━━━━━━━━━━━━━━━━━━━━━━━━━━━━━━━━\u001b[0m \u001b[32m24.7/24.7 MB\u001b[0m \u001b[31m67.4 MB/s\u001b[0m eta \u001b[36m0:00:00\u001b[0ma \u001b[36m0:00:01\u001b[0m\n",
      "\u001b[?25hRequirement already satisfied: numpy>=1.16.6 in /Users/alejandrosalinas/miniconda3/envs/py38/lib/python3.8/site-packages (from pyarrow) (1.23.5)\n",
      "Installing collected packages: pyarrow\n",
      "Successfully installed pyarrow-12.0.1\n",
      "Looking in indexes: https://pypi.org/simple, https://pypi.ngc.nvidia.com\n",
      "Requirement already satisfied: onnx_graphsurgeon in /Users/alejandrosalinas/miniconda3/envs/py38/lib/python3.8/site-packages (0.3.27)\n",
      "Requirement already satisfied: onnx in /Users/alejandrosalinas/miniconda3/envs/py38/lib/python3.8/site-packages (from onnx_graphsurgeon) (1.14.0)\n",
      "Requirement already satisfied: numpy in /Users/alejandrosalinas/miniconda3/envs/py38/lib/python3.8/site-packages (from onnx_graphsurgeon) (1.23.5)\n",
      "Requirement already satisfied: typing-extensions>=3.6.2.1 in /Users/alejandrosalinas/miniconda3/envs/py38/lib/python3.8/site-packages (from onnx->onnx_graphsurgeon) (4.5.0)\n",
      "Requirement already satisfied: protobuf>=3.20.2 in /Users/alejandrosalinas/miniconda3/envs/py38/lib/python3.8/site-packages (from onnx->onnx_graphsurgeon) (4.22.3)\n",
      "Looking in indexes: https://pypi.org/simple, https://pypi.ngc.nvidia.com\n",
      "Collecting seaborn\n",
      "  Downloading seaborn-0.12.2-py3-none-any.whl (293 kB)\n",
      "\u001b[2K     \u001b[90m━━━━━━━━━━━━━━━━━━━━━━━━━━━━━━━━━━━━━━\u001b[0m \u001b[32m293.3/293.3 kB\u001b[0m \u001b[31m17.4 MB/s\u001b[0m eta \u001b[36m0:00:00\u001b[0m\n",
      "\u001b[?25hRequirement already satisfied: pandas>=0.25 in /Users/alejandrosalinas/miniconda3/envs/py38/lib/python3.8/site-packages (from seaborn) (2.0.1)\n",
      "Requirement already satisfied: numpy!=1.24.0,>=1.17 in /Users/alejandrosalinas/miniconda3/envs/py38/lib/python3.8/site-packages (from seaborn) (1.23.5)\n",
      "Requirement already satisfied: matplotlib!=3.6.1,>=3.1 in /Users/alejandrosalinas/miniconda3/envs/py38/lib/python3.8/site-packages (from seaborn) (3.7.1)\n",
      "Requirement already satisfied: contourpy>=1.0.1 in /Users/alejandrosalinas/miniconda3/envs/py38/lib/python3.8/site-packages (from matplotlib!=3.6.1,>=3.1->seaborn) (1.0.7)\n",
      "Requirement already satisfied: pillow>=6.2.0 in /Users/alejandrosalinas/miniconda3/envs/py38/lib/python3.8/site-packages (from matplotlib!=3.6.1,>=3.1->seaborn) (9.5.0)\n",
      "Requirement already satisfied: packaging>=20.0 in /Users/alejandrosalinas/miniconda3/envs/py38/lib/python3.8/site-packages (from matplotlib!=3.6.1,>=3.1->seaborn) (20.9)\n",
      "Requirement already satisfied: python-dateutil>=2.7 in /Users/alejandrosalinas/miniconda3/envs/py38/lib/python3.8/site-packages (from matplotlib!=3.6.1,>=3.1->seaborn) (2.8.2)\n",
      "Requirement already satisfied: importlib-resources>=3.2.0 in /Users/alejandrosalinas/miniconda3/envs/py38/lib/python3.8/site-packages (from matplotlib!=3.6.1,>=3.1->seaborn) (5.12.0)\n",
      "Requirement already satisfied: pyparsing>=2.3.1 in /Users/alejandrosalinas/miniconda3/envs/py38/lib/python3.8/site-packages (from matplotlib!=3.6.1,>=3.1->seaborn) (3.0.9)\n",
      "Requirement already satisfied: cycler>=0.10 in /Users/alejandrosalinas/miniconda3/envs/py38/lib/python3.8/site-packages (from matplotlib!=3.6.1,>=3.1->seaborn) (0.11.0)\n",
      "Requirement already satisfied: kiwisolver>=1.0.1 in /Users/alejandrosalinas/miniconda3/envs/py38/lib/python3.8/site-packages (from matplotlib!=3.6.1,>=3.1->seaborn) (1.4.4)\n",
      "Requirement already satisfied: fonttools>=4.22.0 in /Users/alejandrosalinas/miniconda3/envs/py38/lib/python3.8/site-packages (from matplotlib!=3.6.1,>=3.1->seaborn) (4.39.3)\n",
      "Requirement already satisfied: pytz>=2020.1 in /Users/alejandrosalinas/miniconda3/envs/py38/lib/python3.8/site-packages (from pandas>=0.25->seaborn) (2023.3)\n",
      "Requirement already satisfied: tzdata>=2022.1 in /Users/alejandrosalinas/miniconda3/envs/py38/lib/python3.8/site-packages (from pandas>=0.25->seaborn) (2023.3)\n",
      "Requirement already satisfied: zipp>=3.1.0 in /Users/alejandrosalinas/miniconda3/envs/py38/lib/python3.8/site-packages (from importlib-resources>=3.2.0->matplotlib!=3.6.1,>=3.1->seaborn) (3.15.0)\n",
      "Requirement already satisfied: six>=1.5 in /Users/alejandrosalinas/miniconda3/envs/py38/lib/python3.8/site-packages (from python-dateutil>=2.7->matplotlib!=3.6.1,>=3.1->seaborn) (1.16.0)\n",
      "Installing collected packages: seaborn\n",
      "Successfully installed seaborn-0.12.2\n",
      "Looking in indexes: https://pypi.org/simple, https://pypi.ngc.nvidia.com\n",
      "Requirement already satisfied: torch in /Users/alejandrosalinas/miniconda3/envs/py38/lib/python3.8/site-packages (1.5.0)\n",
      "Collecting torch\n",
      "  Downloading torch-2.0.1-cp38-none-macosx_10_9_x86_64.whl (143.1 MB)\n",
      "\u001b[2K     \u001b[90m━━━━━━━━━━━━━━━━━━━━━━━━━━━━━━━━━━━━━━\u001b[0m \u001b[32m143.1/143.1 MB\u001b[0m \u001b[31m60.7 MB/s\u001b[0m eta \u001b[36m0:00:00\u001b[0m00:01\u001b[0m00:01\u001b[0m\n",
      "\u001b[?25hRequirement already satisfied: torchvision in /Users/alejandrosalinas/miniconda3/envs/py38/lib/python3.8/site-packages (0.6.0)\n",
      "Collecting torchvision\n",
      "  Downloading torchvision-0.15.2-cp38-cp38-macosx_10_9_x86_64.whl (1.5 MB)\n",
      "\u001b[2K     \u001b[90m━━━━━━━━━━━━━━━━━━━━━━━━━━━━━━━━━━━━━━━━\u001b[0m \u001b[32m1.5/1.5 MB\u001b[0m \u001b[31m71.4 MB/s\u001b[0m eta \u001b[36m0:00:00\u001b[0m\n",
      "\u001b[?25hRequirement already satisfied: typing-extensions in /Users/alejandrosalinas/miniconda3/envs/py38/lib/python3.8/site-packages (from torch) (4.5.0)\n",
      "Requirement already satisfied: sympy in /Users/alejandrosalinas/miniconda3/envs/py38/lib/python3.8/site-packages (from torch) (1.11.1)\n",
      "Requirement already satisfied: filelock in /Users/alejandrosalinas/miniconda3/envs/py38/lib/python3.8/site-packages (from torch) (3.12.0)\n",
      "Requirement already satisfied: networkx in /Users/alejandrosalinas/miniconda3/envs/py38/lib/python3.8/site-packages (from torch) (3.1)\n",
      "Requirement already satisfied: jinja2 in /Users/alejandrosalinas/miniconda3/envs/py38/lib/python3.8/site-packages (from torch) (3.1.2)\n",
      "Requirement already satisfied: pillow!=8.3.*,>=5.3.0 in /Users/alejandrosalinas/miniconda3/envs/py38/lib/python3.8/site-packages (from torchvision) (9.5.0)\n",
      "Requirement already satisfied: requests in /Users/alejandrosalinas/miniconda3/envs/py38/lib/python3.8/site-packages (from torchvision) (2.30.0)\n",
      "Requirement already satisfied: numpy in /Users/alejandrosalinas/miniconda3/envs/py38/lib/python3.8/site-packages (from torchvision) (1.23.5)\n",
      "Requirement already satisfied: MarkupSafe>=2.0 in /Users/alejandrosalinas/miniconda3/envs/py38/lib/python3.8/site-packages (from jinja2->torch) (2.1.2)\n",
      "Requirement already satisfied: charset-normalizer<4,>=2 in /Users/alejandrosalinas/miniconda3/envs/py38/lib/python3.8/site-packages (from requests->torchvision) (3.1.0)\n",
      "Requirement already satisfied: urllib3<3,>=1.21.1 in /Users/alejandrosalinas/miniconda3/envs/py38/lib/python3.8/site-packages (from requests->torchvision) (1.26.15)\n",
      "Requirement already satisfied: idna<4,>=2.5 in /Users/alejandrosalinas/miniconda3/envs/py38/lib/python3.8/site-packages (from requests->torchvision) (2.8)\n",
      "Requirement already satisfied: certifi>=2017.4.17 in /Users/alejandrosalinas/miniconda3/envs/py38/lib/python3.8/site-packages (from requests->torchvision) (2022.12.7)\n",
      "Requirement already satisfied: mpmath>=0.19 in /Users/alejandrosalinas/miniconda3/envs/py38/lib/python3.8/site-packages (from sympy->torch) (1.3.0)\n",
      "Installing collected packages: torch, torchvision\n",
      "  Attempting uninstall: torch\n",
      "    Found existing installation: torch 1.5.0\n",
      "    Uninstalling torch-1.5.0:\n",
      "      Successfully uninstalled torch-1.5.0\n",
      "  Attempting uninstall: torchvision\n",
      "    Found existing installation: torchvision 0.6.0\n",
      "    Uninstalling torchvision-0.6.0:\n",
      "      Successfully uninstalled torchvision-0.6.0\n"
     ]
    }
   ],
   "source": [
    "!pip install -U onnx\n",
    "!pip install -U onnxruntime\n",
    "!pip install -U onnx-tf\n",
    "!pip install -U tensorflow-addons\n",
    "!pip install -U tensorflowjs\n",
    "!pip install -U simple-onnx-processing-tools\n",
    "!pip install -U nvidia-pyindex\n",
    "!pip install -U onnx-graphsurgeon\n",
    "!pip install -U tensorflow-probability\n",
    "!pip install -U pyarrow\n",
    "!pip install -U onnx_graphsurgeon\n",
    "!pip install seaborn\n",
    "!pip install --upgrade torch torchvision\n",
    "\n",
    "from onnx_tf.backend import prepare"
   ]
  },
  {
   "cell_type": "code",
   "execution_count": 2,
   "id": "a05a1d7a",
   "metadata": {},
   "outputs": [
    {
     "name": "stdout",
     "output_type": "stream",
     "text": [
      "2.0.1\n"
     ]
    }
   ],
   "source": [
    "import torch\n",
    "print(torch.__version__)\n"
   ]
  },
  {
   "cell_type": "code",
   "execution_count": 3,
   "id": "17793a2f",
   "metadata": {},
   "outputs": [
    {
     "name": "stdout",
     "output_type": "stream",
     "text": [
      "/Users/alejandrosalinasmedina/Desktop/gamesroom/yolov7\n"
     ]
    }
   ],
   "source": [
    "%cd yolov7\n"
   ]
  },
  {
   "cell_type": "code",
   "execution_count": 4,
   "id": "e4b31101",
   "metadata": {},
   "outputs": [
    {
     "name": "stdout",
     "output_type": "stream",
     "text": [
      "Namespace(batch_size=1, conf_thres=0.35, device='cpu', dynamic=False, dynamic_batch=False, end2end=False, fp16=False, grid=True, img_size=[640, 640], include_nms=False, int8=False, iou_thres=0.65, max_wh=640, simplify=False, topk_all=100, weights='runs/train/yolov7_tiny_gamesroom/weights/yolov7-tiny.pt')\n",
      "YOLOR 🚀 v0.1-126-g84932d7 torch 2.0.1 CPU\n",
      "\n",
      "Fusing layers... \n",
      "Model Summary: 200 layers, 6022828 parameters, 6022828 gradients\n",
      "/Users/alejandrosalinasmedina/miniconda3/envs/py38/lib/python3.8/site-packages/torch/functional.py:504: UserWarning: torch.meshgrid: in an upcoming release, it will be required to pass the indexing argument. (Triggered internally at /Users/runner/work/pytorch/pytorch/pytorch/aten/src/ATen/native/TensorShape.cpp:3484.)\n",
      "  return _VF.meshgrid(tensors, **kwargs)  # type: ignore[attr-defined]\n",
      "\n",
      "Starting TorchScript export with torch 2.0.1...\n",
      "/Users/alejandrosalinasmedina/Desktop/gamesroom/yolov7/models/yolo.py:52: TracerWarning: Converting a tensor to a Python boolean might cause the trace to be incorrect. We can't record the data flow of Python values, so this value will be treated as a constant in the future. This means that the trace might not generalize to other inputs!\n",
      "  if self.grid[i].shape[2:4] != x[i].shape[2:4]:\n",
      "TorchScript export success, saved as runs/train/yolov7_tiny_gamesroom/weights/yolov7-tiny.torchscript.pt\n",
      "CoreML export failure: No module named 'coremltools'\n",
      "\n",
      "Starting TorchScript-Lite export with torch 2.0.1...\n",
      "TorchScript-Lite export success, saved as runs/train/yolov7_tiny_gamesroom/weights/yolov7-tiny.torchscript.ptl\n",
      "\n",
      "Starting ONNX export with onnx 1.14.0...\n",
      "/Users/alejandrosalinasmedina/Desktop/gamesroom/yolov7/models/yolo.py:582: TracerWarning: Converting a tensor to a Python boolean might cause the trace to be incorrect. We can't record the data flow of Python values, so this value will be treated as a constant in the future. This means that the trace might not generalize to other inputs!\n",
      "  if augment:\n",
      "/Users/alejandrosalinasmedina/Desktop/gamesroom/yolov7/models/yolo.py:614: TracerWarning: Converting a tensor to a Python boolean might cause the trace to be incorrect. We can't record the data flow of Python values, so this value will be treated as a constant in the future. This means that the trace might not generalize to other inputs!\n",
      "  if profile:\n",
      "/Users/alejandrosalinasmedina/Desktop/gamesroom/yolov7/models/yolo.py:629: TracerWarning: Converting a tensor to a Python boolean might cause the trace to be incorrect. We can't record the data flow of Python values, so this value will be treated as a constant in the future. This means that the trace might not generalize to other inputs!\n",
      "  if profile:\n",
      "================ Diagnostic Run torch.onnx.export version 2.0.1 ================\n",
      "verbose: False, log level: Level.ERROR\n",
      "======================= 0 NONE 0 NOTE 0 WARNING 0 ERROR ========================\n",
      "\n",
      "ONNX export success, saved as runs/train/yolov7_tiny_gamesroom/weights/yolov7-tiny.onnx\n",
      "\n",
      "Export complete (6.26s). Visualize with https://github.com/lutzroeder/netron.\n"
     ]
    }
   ],
   "source": [
    "!python export.py --weights runs/train/yolov7_tiny_gamesroom/weights/yolov7-tiny.pt  \\\n",
    "        --grid  \\\n",
    "        --topk-all 100 --iou-thres 0.65 --conf-thres 0.35 \\\n",
    "        --img-size 640 640 --max-wh 640 # For onnxruntime, you need to specify this value as an integer, when it is 0 it means agnostic NMS,\n",
    "                     # otherwise it is non-agnostic NMS"
   ]
  },
  {
   "cell_type": "code",
   "execution_count": 5,
   "id": "250973b8",
   "metadata": {},
   "outputs": [],
   "source": [
    "from pathlib import Path\n",
    "import onnx\n",
    "from scc4onnx import order_conversion\n",
    "from onnx_tf.backend import prepare"
   ]
  },
  {
   "cell_type": "code",
   "execution_count": 6,
   "id": "7438c683",
   "metadata": {},
   "outputs": [],
   "source": [
    "onnx_model_path = 'runs/train/yolov7_tiny_gamesroom/weights/yolov7-tiny.onnx'\n",
    "onnx_model = onnx.load(onnx_model_path)"
   ]
  },
  {
   "cell_type": "code",
   "execution_count": 7,
   "id": "d45e2ea4",
   "metadata": {},
   "outputs": [
    {
     "name": "stdout",
     "output_type": "stream",
     "text": [
      "mkdir: /content/yolov7/runs/train/yolov7_tiny_gamesroom/weights: No such file or directory\n",
      "mkdir: /content/yolov7/runs/train/yolov7_tiny_gamesroom/weights/tf: No such file or directory\n"
     ]
    }
   ],
   "source": [
    "#Prepare ONNX model for Tensorflow Backend\n",
    "tf_rep = prepare(onnx_model)\n",
    "!mkdir /content/yolov7/runs/train/yolov7_tiny_gamesroom/weights/tf\n",
    "!mkdir /content/yolov7/runs/train/yolov7_tiny_gamesroom/weights/tf/stockout_web_model"
   ]
  },
  {
   "cell_type": "code",
   "execution_count": 10,
   "id": "d525d6f0",
   "metadata": {},
   "outputs": [
    {
     "name": "stderr",
     "output_type": "stream",
     "text": [
      "WARNING:absl:Found untraced functions such as gen_tensor_dict while saving (showing 1 of 1). These functions will not be directly callable after loading.\n"
     ]
    },
    {
     "name": "stdout",
     "output_type": "stream",
     "text": [
      "INFO:tensorflow:Assets written to: ./yolov7/runs/train/yolov7_tiny_gamesroom/weights/tf/assets\n"
     ]
    },
    {
     "name": "stderr",
     "output_type": "stream",
     "text": [
      "INFO:tensorflow:Assets written to: ./yolov7/runs/train/yolov7_tiny_gamesroom/weights/tf/assets\n"
     ]
    }
   ],
   "source": [
    "tf_model_dir = \"./yolov7/runs/train/yolov7_tiny_gamesroom/weights/tf\"\n",
    "tf_rep.export_graph(tf_model_dir)\n",
    "tfjs_model_dir = f\"{tf_model_dir}/gamesroom_web_model\""
   ]
  },
  {
   "cell_type": "code",
   "execution_count": 11,
   "id": "946a8c38",
   "metadata": {},
   "outputs": [],
   "source": [
    "#Export SavedModel to TFJS format\n",
    "tfjs_convert_command = f\"\"\"tensorflowjs_converter\n",
    "                 --input_format=tf_saved_model\n",
    "                 --output_format=tfjs_graph_model\n",
    "                 --signature_name=serving_default\n",
    "                 --saved_model_tags=serve\n",
    "                 \"{tf_model_dir}\"\n",
    "                 \"{tfjs_model_dir}\"\n",
    "                 \"\"\"\n",
    "tfjs_convert_command = \" \".join(tfjs_convert_command.split())"
   ]
  },
  {
   "cell_type": "code",
   "execution_count": 12,
   "id": "7beb425e",
   "metadata": {},
   "outputs": [
    {
     "data": {
      "text/plain": [
       "['weight PartitionedCall/onnx_tf_prefix_/model.77/Constant with shape (5,) and dtype int64 was auto converted to the type int32',\n",
       " 'weight PartitionedCall/Where with shape (0, 1) and dtype int64 was auto converted to the type int32',\n",
       " 'weight PartitionedCall/Cast_4 with shape (1,) and dtype int64 was auto converted to the type int32',\n",
       " 'weight PartitionedCall/GatherV2 with shape (0,) and dtype int64 was auto converted to the type int32',\n",
       " 'weight PartitionedCall/zeros with shape () and dtype int64 was auto converted to the type int32',\n",
       " 'weight PartitionedCall/onnx_tf_prefix_/model.77/Constant_5 with shape (3,) and dtype int64 was auto converted to the type int32',\n",
       " 'weight PartitionedCall/Where_1 with shape (0, 1) and dtype int64 was auto converted to the type int32',\n",
       " 'weight PartitionedCall/Cast_5 with shape (1,) and dtype int64 was auto converted to the type int32',\n",
       " 'weight PartitionedCall/GatherV2_1 with shape (0,) and dtype int64 was auto converted to the type int32',\n",
       " 'weight PartitionedCall/zeros_1 with shape () and dtype int64 was auto converted to the type int32',\n",
       " 'weight PartitionedCall/onnx_tf_prefix_/model.77/Constant_6 with shape (5,) and dtype int64 was auto converted to the type int32',\n",
       " 'weight PartitionedCall/Where_2 with shape (0, 1) and dtype int64 was auto converted to the type int32',\n",
       " 'weight PartitionedCall/Cast_6 with shape (1,) and dtype int64 was auto converted to the type int32',\n",
       " 'weight PartitionedCall/GatherV2_2 with shape (0,) and dtype int64 was auto converted to the type int32',\n",
       " 'weight PartitionedCall/zeros_2 with shape () and dtype int64 was auto converted to the type int32',\n",
       " 'weight PartitionedCall/onnx_tf_prefix_/model.77/Constant_11 with shape (3,) and dtype int64 was auto converted to the type int32',\n",
       " 'weight PartitionedCall/Where_3 with shape (0, 1) and dtype int64 was auto converted to the type int32',\n",
       " 'weight PartitionedCall/Cast_7 with shape (1,) and dtype int64 was auto converted to the type int32',\n",
       " 'weight PartitionedCall/GatherV2_3 with shape (0,) and dtype int64 was auto converted to the type int32',\n",
       " 'weight PartitionedCall/zeros_3 with shape () and dtype int64 was auto converted to the type int32',\n",
       " 'weight PartitionedCall/onnx_tf_prefix_/model.77/Constant_12 with shape (5,) and dtype int64 was auto converted to the type int32',\n",
       " 'weight PartitionedCall/Where_4 with shape (0, 1) and dtype int64 was auto converted to the type int32',\n",
       " 'weight PartitionedCall/Cast_8 with shape (1,) and dtype int64 was auto converted to the type int32',\n",
       " 'weight PartitionedCall/GatherV2_4 with shape (0,) and dtype int64 was auto converted to the type int32',\n",
       " 'weight PartitionedCall/zeros_4 with shape () and dtype int64 was auto converted to the type int32',\n",
       " 'weight PartitionedCall/onnx_tf_prefix_/model.77/Constant_17 with shape (3,) and dtype int64 was auto converted to the type int32',\n",
       " 'weight PartitionedCall/Where_5 with shape (0, 1) and dtype int64 was auto converted to the type int32',\n",
       " 'weight PartitionedCall/Cast_9 with shape (1,) and dtype int64 was auto converted to the type int32',\n",
       " 'weight PartitionedCall/GatherV2_5 with shape (0,) and dtype int64 was auto converted to the type int32',\n",
       " 'weight PartitionedCall/zeros_5 with shape () and dtype int64 was auto converted to the type int32']"
      ]
     },
     "execution_count": 12,
     "metadata": {},
     "output_type": "execute_result"
    }
   ],
   "source": [
    "%sx $tfjs_convert_command"
   ]
  },
  {
   "cell_type": "code",
   "execution_count": 13,
   "id": "dc94f588",
   "metadata": {},
   "outputs": [
    {
     "name": "stdout",
     "output_type": "stream",
     "text": [
      "a ./yolov7/runs/train/yolov7_tiny_gamesroom/weights/tf/gamesroom_web_model\n",
      "a ./yolov7/runs/train/yolov7_tiny_gamesroom/weights/tf/gamesroom_web_model/model.json\n",
      "a ./yolov7/runs/train/yolov7_tiny_gamesroom/weights/tf/gamesroom_web_model/group1-shard5of6.bin\n",
      "a ./yolov7/runs/train/yolov7_tiny_gamesroom/weights/tf/gamesroom_web_model/group1-shard1of6.bin\n",
      "a ./yolov7/runs/train/yolov7_tiny_gamesroom/weights/tf/gamesroom_web_model/group1-shard3of6.bin\n",
      "a ./yolov7/runs/train/yolov7_tiny_gamesroom/weights/tf/gamesroom_web_model/group1-shard6of6.bin\n",
      "a ./yolov7/runs/train/yolov7_tiny_gamesroom/weights/tf/gamesroom_web_model/group1-shard4of6.bin\n",
      "a ./yolov7/runs/train/yolov7_tiny_gamesroom/weights/tf/gamesroom_web_model/group1-shard2of6.bin\n"
     ]
    }
   ],
   "source": [
    "!tar vcfz {tfjs_model_dir}.tar.gz {tfjs_model_dir}\n"
   ]
  },
  {
   "cell_type": "code",
   "execution_count": 21,
   "id": "116f3ddf",
   "metadata": {},
   "outputs": [],
   "source": [
    "import tarfile\n",
    "\n",
    "file_path = tfjs_model_dir + '.tar.gz' # replace with your file path\n",
    "destination_folder = './destination/'  # replace with your destination folder\n",
    "\n",
    "with tarfile.open(file_path, 'r:gz') as tar:\n",
    "    tar.extractall(path=destination_folder)\n"
   ]
  },
  {
   "cell_type": "code",
   "execution_count": null,
   "id": "faec4a8f",
   "metadata": {},
   "outputs": [],
   "source": []
  }
 ],
 "metadata": {
  "kernelspec": {
   "display_name": "Python 3 (ipykernel)",
   "language": "python",
   "name": "python3"
  },
  "language_info": {
   "codemirror_mode": {
    "name": "ipython",
    "version": 3
   },
   "file_extension": ".py",
   "mimetype": "text/x-python",
   "name": "python",
   "nbconvert_exporter": "python",
   "pygments_lexer": "ipython3",
   "version": "3.8.16"
  }
 },
 "nbformat": 4,
 "nbformat_minor": 5
}
